{
 "cells": [
  {
   "cell_type": "markdown",
   "metadata": {},
   "source": [
    "# Define an option class"
   ]
  },
  {
   "cell_type": "code",
   "execution_count": 1,
   "metadata": {},
   "outputs": [],
   "source": [
    "import numpy as np\n",
    "import datetime\n",
    "import matplotlib.pyplot as plt\n",
    "\n",
    "\n",
    "class Option(object):\n",
    "    def __init__(self,strikePrice,optionCost,expDate=None):\n",
    "        self.strikePrice=strikePrice\n",
    "        self.optionCost=optionCost\n",
    "        self.expDate=expDate\n",
    "    def get_strikePrice(self):\n",
    "        return self.strikePrice\n",
    "    def get_optionCost(self):\n",
    "        return self.optionCost\n",
    "    def profit_optionPrice(self,currentOptionPrice):\n",
    "        return(currentOptionPrice-self.optionCost)\n",
    "    def compareToOption(self,currentOptionPrice):\n",
    "        if self.optionCost<currentOptionPrice:\n",
    "            print ('the option is making profit')\n",
    "        elif self.optionCost>currentOptionPrice:\n",
    "            print('the option is losing money')\n",
    "        else:\n",
    "            print('the option is in even')\n",
    "    def __str__(self):\n",
    "        return(' option expDate is:{0:%B %d, %Y}\\n strikePrice is: {1:.2f}\\n optionCost is: {2:.2f}'\\\n",
    "               .format(self.expDate,self.strikePrice,self.optionCost))\n",
    "        \n",
    "\n",
    "class CallOption(Option):\n",
    "    def __init__(self,strikePrice,optionCost,expDate=None):\n",
    "        Option.__init__(self,strikePrice,optionCost,expDate)\n",
    "        self.breakevenPrice=self.strikePrice-self.optionCost\n",
    "    def profit_stockPrice(self,stockPrice):\n",
    "        return(max(stockPrice-self.strikePrice,0)-self.optionCost)\n",
    "    def compareToStock(self,stockPrice):\n",
    "        if stockPrice>self.strikePrice:\n",
    "            print('the call option is in the money')\n",
    "        elif stockPrice<self.strikePrice:\n",
    "            print('the call option is out of money')\n",
    "        else:\n",
    "            print('the put option is on the money')\n",
    "# current price 35\n",
    "# call option executing price 30\n",
    "# call option price 8\n",
    "# break even price \n",
    "\n",
    "class PutOption(Option):\n",
    "    def __init__(self,strikePrice,optionCost,expDate=None):\n",
    "        Option.__init__(self,strikePrice,optionCost,expDate)\n",
    "        self.breakevenPrice=self.strikePrice+self.optionCost\n",
    "    def profit_stockPrice(self,stockPrice):\n",
    "        return (max(self.strikePrice-stockPrice,0)-self.optionCost)\n",
    "    def compareToStock(self,stockPrice):\n",
    "        if stockPrice <self.strikePrice:\n",
    "            print('the put option is in the money')            \n",
    "        elif stockPrice>self.strikePrice:\n",
    "            print('the put option is out of money')\n",
    "        else:\n",
    "            print('the put option is on the money')\n"
   ]
  },
  {
   "cell_type": "code",
   "execution_count": 6,
   "metadata": {},
   "outputs": [
    {
     "data": {
      "image/png": "[encoded data removed]",
      "text/plain": [
       "<Figure size 864x576 with 1 Axes>"
      ]
     },
     "metadata": {
      "needs_background": "light"
     },
     "output_type": "display_data"
    }
   ],
   "source": [
    "def combination(call,put,stockPrice):\n",
    "    wholeProfit_stockPrice=call.profit_stockPrice(stockPrice)+put.profit_stockPrice(stockPrice)\n",
    "   # wholeProfit_optionPrice=call.profit_optionPrice(0.1)+put.profit_optionPrice(9)\n",
    "    return wholeProfit_stockPrice\n",
    "\n",
    "if __name__=='__main__':\n",
    "    expDate=datetime.datetime(2018,10,19)   \n",
    "    # call option\n",
    "    callExPrice=22.5\n",
    "    callOptionCost=1.18\n",
    "    callExDate=expDate\n",
    "    #put option\n",
    "    putExPrice=22.5\n",
    "    putOptionCost=1.93\n",
    "    putExDate=expDate\n",
    "    # current stock \n",
    "    currentStockPrice=21.8\n",
    "    \n",
    "    call1019=CallOption(callExPrice,callOptionCost,callExDate)\n",
    "    put1019=PutOption(putExPrice,putOptionCost,putExDate)\n",
    "    wholeProfit=combination(call1019,put1019,21.78)\n",
    "    \n",
    "    priceList=np.linspace(15,35,200)\n",
    "    com_profitList=[combination(call1019,put1019,x) for x in priceList]\n",
    "    callOption_profitList=[call1019.profit_stockPrice(x) for x in priceList]\n",
    "    putOption_profitList=[put1019.profit_stockPrice(x) for x in priceList]\n",
    "    #plt.figure(1, figsize=(9, 6))\n",
    "    plt.figure(figsize=(12,8))\n",
    "    plt.plot(priceList,callOption_profitList,'ro',label='call option')\n",
    "    plt.axhline(y=-callOptionCost,color='r',linestyle='-')\n",
    "    plt.plot(priceList,putOption_profitList,'bs',label='sell option')\n",
    "    plt.axhline(y=-putOptionCost,color='r',linestyle='-')\n",
    "    plt.plot(priceList,com_profitList,'g*',label='combination')\n",
    "    plt.axhline(y=0,color='r',linestyle='-')\n",
    "    plt.legend(loc='upper center')"
   ]
  },
  {
   "cell_type": "code",
   "execution_count": null,
   "metadata": {},
   "outputs": [],
   "source": []
  }
 ],
 "metadata": {
  "kernelspec": {
   "display_name": "conda_python3",
   "language": "python",
   "name": "conda_python3"
  },
  "language_info": {
   "codemirror_mode": {
    "name": "ipython",
    "version": 3
   },
   "file_extension": ".py",
   "mimetype": "text/x-python",
   "name": "python",
   "nbconvert_exporter": "python",
   "pygments_lexer": "ipython3",
   "version": "3.6.10"
  }
 },
 "nbformat": 4,
 "nbformat_minor": 4
}

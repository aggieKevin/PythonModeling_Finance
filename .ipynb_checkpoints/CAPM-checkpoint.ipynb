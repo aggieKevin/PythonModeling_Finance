{
 "cells": [
  {
   "cell_type": "markdown",
   "metadata": {},
   "source": [
    "# Capital Asset Pricing Model (CAPM)"
   ]
  },
  {
   "cell_type": "markdown",
   "metadata": {},
   "source": [
    "CAPM describes the relationship between systematic risk and expected return for assets, particularly stocks. CAPM is widely used throughout finance for pricing risky securities and generating expected returns for assets given the risk of those assets and cost of capital. "
   ]
  },
  {
   "cell_type": "markdown",
   "metadata": {},
   "source": [
    "This example shows how to use CAPM to find the optimum protofolio combination based on historical data"
   ]
  },
  {
   "cell_type": "code",
   "execution_count": 2,
   "metadata": {},
   "outputs": [
    {
     "ename": "ModuleNotFoundError",
     "evalue": "No module named 'fix_yahoo_finance'",
     "output_type": "error",
     "traceback": [
      "\u001b[0;31m---------------------------------------------------------------------------\u001b[0m",
      "\u001b[0;31mModuleNotFoundError\u001b[0m                       Traceback (most recent call last)",
      "\u001b[0;32m<ipython-input-2-5c47708d0f3d>\u001b[0m in \u001b[0;36m<module>\u001b[0;34m\u001b[0m\n\u001b[1;32m      3\u001b[0m \u001b[0;32mimport\u001b[0m \u001b[0mdatetime\u001b[0m\u001b[0;34m\u001b[0m\u001b[0;34m\u001b[0m\u001b[0m\n\u001b[1;32m      4\u001b[0m \u001b[0;32mimport\u001b[0m \u001b[0mmatplotlib\u001b[0m\u001b[0;34m.\u001b[0m\u001b[0mpyplot\u001b[0m \u001b[0;32mas\u001b[0m \u001b[0mplt\u001b[0m\u001b[0;34m\u001b[0m\u001b[0;34m\u001b[0m\u001b[0m\n\u001b[0;32m----> 5\u001b[0;31m \u001b[0;32mimport\u001b[0m \u001b[0mfix_yahoo_finance\u001b[0m \u001b[0;32mas\u001b[0m \u001b[0mfix\u001b[0m\u001b[0;34m\u001b[0m\u001b[0;34m\u001b[0m\u001b[0m\n\u001b[0m",
      "\u001b[0;31mModuleNotFoundError\u001b[0m: No module named 'fix_yahoo_finance'"
     ]
    }
   ],
   "source": [
    "import numpy as np\n",
    "import pandas as pd\n",
    "import datetime\n",
    "import matplotlib.pyplot as plt\n",
    "import yfinance as yf"
   ]
  },
  {
   "cell_type": "code",
   "execution_count": null,
   "metadata": {},
   "outputs": [],
   "source": [
    "start=datetime.date(2017,1,1)\n",
    "\n",
    "# create portfolio\n",
    "AAPL=fix.download('AAPL',start)\n",
    "CISCO=fix.download('CSCO',start)\n",
    "IBM=fix.download('IBM',start)\n",
    "AMZN=fix.download('AMZN',start)"
   ]
  },
  {
   "cell_type": "code",
   "execution_count": null,
   "metadata": {},
   "outputs": [],
   "source": [
    "\n",
    "\n",
    "#normalize price\n",
    "for stock_df in (AAPL,CISCO,IBM,AMZN):\n",
    "    stock_df['Normed Return']=stock_df['Adj Close']/stock_df.iloc[0]['Adj Close']\n",
    "AAPL.head()\n",
    "\n",
    "for stock_df,allo in zip([AAPL,CISCO,IBM,AMZN],[0.3,0.2,0.4,0.1]):\n",
    "    stock_df['Allocation']=stock_df['Normed Return']*allo\n",
    "    \n",
    "# Initialize investment, with origial value at 10,000\n",
    "investment=10000\n",
    "for stock_df in (AAPL,CISCO,IBM,AMZN):\n",
    "    stock_df['Position Values']=stock_df['Allocation']*investment\n",
    "\n",
    "portfolio=pd.concat([AAPL['Position Values'],CISCO['Position Values'],\\\n",
    "                     IBM['Position Values'],AMZN['Position Values']],axis=1)\n",
    "portfolio.columns=['AAPL','CISCO','IBM','AMZN']\n",
    "portfolio['Total']=portfolio.sum(axis=1)\n",
    "portfolio.plot(figsize=(10,8))\n",
    "\n",
    "# daily return\n",
    "portfolio['Daily Return']=portfolio['Total'].pct_change(1)\n",
    "portfolio['Daily Return'].mean()\n",
    "portfolio['Daily Return'].std()\n",
    "\n",
    "# porftfolio optimization\n",
    "stocks=pd.concat([AAPL['Adj Close'],CISCO['Adj Close'],IBM['Adj Close'],\\\n",
    "                  AMZN['Adj Close']],axis=1)\n",
    "stocks.columns=['AAPL','CISCO','IBM','AMZN']\n",
    "daily_change=stocks.pct_change(1)\n",
    "daily_change.corr()\n",
    "\n",
    "# Mento Carlo simulation:  thousands of possible allocations\n",
    "stock_normed=stocks/stocks.iloc[0]\n",
    "stock_normed.plot()\n",
    "\n",
    "# log return vs arithmetic returns\n",
    "log_ret=np.log(stocks/stocks.shift(1))\n",
    "log_ret.head()\n",
    "log_ret.hist(bins=100,figsize=(12,6))\n",
    "plt.tight_layout()\n",
    "log_ret.describe().transpose()\n",
    "log_ret.mean()*252\n",
    "log_ret.cov()\n",
    "\n",
    "# ******singel run from some random allocation\n",
    "np.random.seed(101)\n",
    "print('stocks')\n",
    "print(stocks.columns)\n",
    "\n",
    "# funcitons\n",
    "def assignWeight(NumOfStocks):\n",
    "    weights=np.array(np.random.random(NumOfStocks))\n",
    "    weights=weights/np.sum(weights)\n",
    "    return weights\n",
    "\n",
    "def portMeanAndVar(stocks,weights):\n",
    "    log_ret=np.log(stocks/stocks.shift(1))\n",
    "    exp_ret=np.sum((log_ret.mean()*weights)*252)\n",
    "    # how to caculate portfolio covariance\n",
    "    #  σ2p=ω C ω⊺ ,C is the cov matrix\n",
    "    exp_vol = np.sqrt(np.dot(weights.T, np.dot(log_ret.cov() * 252, weights)))\n",
    "    SR=exp_ret/exp_vol\n",
    "    return exp_ret,exp_vol,SR\n",
    "\n",
    "def simulation(times,stocks):    \n",
    "    # initialize \n",
    "    NumOfStocks=len(stocks.columns)\n",
    "    all_weights=np.zeros((times,NumOfStocks))\n",
    "    ret_arr=np.zeros(times)\n",
    "    vol_arr=np.zeros(times)\n",
    "    sharpe_arr=np.zeros(times)\n",
    "    for i in range(times):\n",
    "        weights=assignWeight(NumOfStocks)\n",
    "        all_weights[i,:]=weights\n",
    "        ret_arr[i],vol_arr[i],sharpe_arr[i]=portMeanAndVar(stocks,weights)\n",
    "    return ret_arr,vol_arr,sharpe_arr\n",
    "\n",
    "# simulation main part     \n",
    "weights=assignWeight(4)\n",
    "result=portMeanAndVar(stocks,weights)\n",
    "ret_arr,vol_arr,sharpe_arr=simulation(5000,stocks)  \n",
    "sharpe_arr.max()\n",
    "maxLocation=sharpe_arr.argmax()\n",
    "max_sr_ret=ret_arr[maxLocation]\n",
    "max_sr_vol=vol_arr[maxLocation]\n",
    "     \n",
    "plt.figure(figsize=(12,8))\n",
    "plt.scatter(vol_arr,ret_arr,c=sharpe_arr,cmap='plasma')\n",
    "plt.colorbar(label='Sharpe Ratio')\n",
    "plt.xlabel('Volatility')\n",
    "plt.ylabel('Return')\n",
    "plt.scatter(max_sr_vol,max_sr_ret,c='red',s=50,edgecolors='black')        \n",
    "    \n",
    "    \n",
    "\n",
    "\n",
    "\n",
    "\n",
    "\n",
    "\n",
    "\n",
    "\n",
    "\n",
    "\n"
   ]
  }
 ],
 "metadata": {
  "kernelspec": {
   "display_name": "conda_python3",
   "language": "python",
   "name": "conda_python3"
  },
  "language_info": {
   "codemirror_mode": {
    "name": "ipython",
    "version": 3
   },
   "file_extension": ".py",
   "mimetype": "text/x-python",
   "name": "python",
   "nbconvert_exporter": "python",
   "pygments_lexer": "ipython3",
   "version": "3.6.10"
  }
 },
 "nbformat": 4,
 "nbformat_minor": 4
}

{
 "cells": [
  {
   "cell_type": "markdown",
   "metadata": {},
   "source": [
    "# A Data Analysis Project in Mortgage Credit Analysis"
   ]
  },
  {
   "cell_type": "code",
   "execution_count": 2,
   "metadata": {},
   "outputs": [],
   "source": [
    "# import modules\n",
    "import pandas as pd\n",
    "import sqlalchemy as sa\n",
    "import numpy as np"
   ]
  },
  {
   "cell_type": "code",
   "execution_count": 3,
   "metadata": {},
   "outputs": [],
   "source": [
    "# To see plots in notebook, run the following command\n",
    "%matplotlib inline"
   ]
  },
  {
   "cell_type": "markdown",
   "metadata": {},
   "source": [
    "# Part 1. Connect to MySQL database.\n",
    "sqlalchemy is used to create the connection."
   ]
  },
  {
   "cell_type": "code",
   "execution_count": 4,
   "metadata": {},
   "outputs": [],
   "source": [
    "host='***' # not showed here \n",
    "port='3306'\n",
    "username='***'# not showed here\n",
    "password='***'# not showed here\n",
    "schema='AgencyData'\n",
    "table='CleanFreddieSample'\n",
    "dialect_driver='mysql+pymysql'\n",
    "#use the above information to form a connection\n",
    "connection=dialect_driver+'://'+username+':'+password+'@'+host+':'+port+'/'+schema\n",
    "engine=sa.create_engine(connection)"
   ]
  },
  {
   "cell_type": "code",
   "execution_count": 5,
   "metadata": {},
   "outputs": [
    {
     "data": {
      "text/plain": [
       "(20000, 19)"
      ]
     },
     "execution_count": 5,
     "metadata": {},
     "output_type": "execute_result"
    }
   ],
   "source": [
    "# Use SQL command to get the data from database\n",
    "sql='select * from '+table # remeber to add a space after from\n",
    "data=pd.read_sql(sql,engine) # the mortgage data has the DataFrame structure\n",
    "data.shape # you should see the mortgage data has 20,000 rows and 19 columns"
   ]
  },
  {
   "cell_type": "markdown",
   "metadata": {},
   "source": [
    "# Part 2. Group the data by year\n",
    "Analyze the breakdown of mortgage statuses and see how mortgage behavior changes "
   ]
  },
  {
   "cell_type": "code",
   "execution_count": 7,
   "metadata": {},
   "outputs": [],
   "source": [
    "# to group by year, add a new columns called year\n",
    "data['year']=[n[0:4]for n in data['first_pmt_date']] # get first 4 digits as year"
   ]
  },
  {
   "cell_type": "code",
   "execution_count": 8,
   "metadata": {},
   "outputs": [
    {
     "data": {
      "text/html": [
       "<div>\n",
       "<style scoped>\n",
       "    .dataframe tbody tr th:only-of-type {\n",
       "        vertical-align: middle;\n",
       "    }\n",
       "\n",
       "    .dataframe tbody tr th {\n",
       "        vertical-align: top;\n",
       "    }\n",
       "\n",
       "    .dataframe thead th {\n",
       "        text-align: right;\n",
       "    }\n",
       "</style>\n",
       "<table border=\"1\" class=\"dataframe\">\n",
       "  <thead>\n",
       "    <tr style=\"text-align: right;\">\n",
       "      <th>status</th>\n",
       "      <th>Alive</th>\n",
       "      <th>Default</th>\n",
       "      <th>Prepay</th>\n",
       "    </tr>\n",
       "    <tr>\n",
       "      <th>year</th>\n",
       "      <th></th>\n",
       "      <th></th>\n",
       "      <th></th>\n",
       "    </tr>\n",
       "  </thead>\n",
       "  <tbody>\n",
       "    <tr>\n",
       "      <th>1999</th>\n",
       "      <td>15</td>\n",
       "      <td>5</td>\n",
       "      <td>731</td>\n",
       "    </tr>\n",
       "    <tr>\n",
       "      <th>2000</th>\n",
       "      <td>2</td>\n",
       "      <td>11</td>\n",
       "      <td>599</td>\n",
       "    </tr>\n",
       "    <tr>\n",
       "      <th>2001</th>\n",
       "      <td>27</td>\n",
       "      <td>32</td>\n",
       "      <td>1249</td>\n",
       "    </tr>\n",
       "    <tr>\n",
       "      <th>2002</th>\n",
       "      <td>59</td>\n",
       "      <td>28</td>\n",
       "      <td>1353</td>\n",
       "    </tr>\n",
       "    <tr>\n",
       "      <th>2003</th>\n",
       "      <td>132</td>\n",
       "      <td>41</td>\n",
       "      <td>1585</td>\n",
       "    </tr>\n",
       "    <tr>\n",
       "      <th>2004</th>\n",
       "      <td>108</td>\n",
       "      <td>28</td>\n",
       "      <td>788</td>\n",
       "    </tr>\n",
       "    <tr>\n",
       "      <th>2005</th>\n",
       "      <td>180</td>\n",
       "      <td>69</td>\n",
       "      <td>1112</td>\n",
       "    </tr>\n",
       "    <tr>\n",
       "      <th>2006</th>\n",
       "      <td>123</td>\n",
       "      <td>88</td>\n",
       "      <td>933</td>\n",
       "    </tr>\n",
       "    <tr>\n",
       "      <th>2007</th>\n",
       "      <td>101</td>\n",
       "      <td>100</td>\n",
       "      <td>799</td>\n",
       "    </tr>\n",
       "    <tr>\n",
       "      <th>2008</th>\n",
       "      <td>128</td>\n",
       "      <td>76</td>\n",
       "      <td>855</td>\n",
       "    </tr>\n",
       "    <tr>\n",
       "      <th>2009</th>\n",
       "      <td>341</td>\n",
       "      <td>19</td>\n",
       "      <td>1222</td>\n",
       "    </tr>\n",
       "    <tr>\n",
       "      <th>2010</th>\n",
       "      <td>294</td>\n",
       "      <td>1</td>\n",
       "      <td>757</td>\n",
       "    </tr>\n",
       "    <tr>\n",
       "      <th>2011</th>\n",
       "      <td>303</td>\n",
       "      <td>2</td>\n",
       "      <td>513</td>\n",
       "    </tr>\n",
       "    <tr>\n",
       "      <th>2012</th>\n",
       "      <td>693</td>\n",
       "      <td>3</td>\n",
       "      <td>395</td>\n",
       "    </tr>\n",
       "    <tr>\n",
       "      <th>2013</th>\n",
       "      <td>867</td>\n",
       "      <td>1</td>\n",
       "      <td>296</td>\n",
       "    </tr>\n",
       "    <tr>\n",
       "      <th>2014</th>\n",
       "      <td>536</td>\n",
       "      <td>0</td>\n",
       "      <td>243</td>\n",
       "    </tr>\n",
       "    <tr>\n",
       "      <th>2015</th>\n",
       "      <td>924</td>\n",
       "      <td>0</td>\n",
       "      <td>169</td>\n",
       "    </tr>\n",
       "    <tr>\n",
       "      <th>2016</th>\n",
       "      <td>1014</td>\n",
       "      <td>0</td>\n",
       "      <td>48</td>\n",
       "    </tr>\n",
       "    <tr>\n",
       "      <th>2017</th>\n",
       "      <td>2</td>\n",
       "      <td>0</td>\n",
       "      <td>0</td>\n",
       "    </tr>\n",
       "  </tbody>\n",
       "</table>\n",
       "</div>"
      ],
      "text/plain": [
       "status  Alive  Default  Prepay\n",
       "year                          \n",
       "1999       15        5     731\n",
       "2000        2       11     599\n",
       "2001       27       32    1249\n",
       "2002       59       28    1353\n",
       "2003      132       41    1585\n",
       "2004      108       28     788\n",
       "2005      180       69    1112\n",
       "2006      123       88     933\n",
       "2007      101      100     799\n",
       "2008      128       76     855\n",
       "2009      341       19    1222\n",
       "2010      294        1     757\n",
       "2011      303        2     513\n",
       "2012      693        3     395\n",
       "2013      867        1     296\n",
       "2014      536        0     243\n",
       "2015      924        0     169\n",
       "2016     1014        0      48\n",
       "2017        2        0       0"
      ]
     },
     "execution_count": 8,
     "metadata": {},
     "output_type": "execute_result"
    }
   ],
   "source": [
    "#use pivot_table function from DataFrame to groupd the data\n",
    "# If some years don't have any record, the count should be 0 \n",
    "data_group_by_year=data.pivot_table(index='year',columns='status',aggfunc='size',fill_value=0)\n",
    "\n",
    "# show data_group_by_year structure. Year varies from 1999 to 2017\n",
    "data_group_by_year "
   ]
  },
  {
   "cell_type": "code",
   "execution_count": 9,
   "metadata": {},
   "outputs": [
    {
     "data": {
      "text/plain": [
       "<matplotlib.axes._subplots.AxesSubplot at 0x26e3fdf3400>"
      ]
     },
     "execution_count": 9,
     "metadata": {},
     "output_type": "execute_result"
    },
    {
     "data": {
      "image/png": "[encoded data removed]",
      "text/plain": [
       "<Figure size 432x288 with 1 Axes>"
      ]
     },
     "metadata": {
      "needs_background": "light"
     },
     "output_type": "display_data"
    }
   ],
   "source": [
    "# plot the data\n",
    "data_group_by_year.plot()"
   ]
  },
  {
   "cell_type": "markdown",
   "metadata": {},
   "source": [
    "From the figure, we can see the number of Prepay increases first then drops\n",
    "over years. The number of Alive is flat in the beginning and increases sharply\n",
    "from year 2009. The number of Default is overall flat but in 2008, it has a significant jump "
   ]
  },
  {
   "cell_type": "markdown",
   "metadata": {},
   "source": [
    "# Part 3. Group the data by age"
   ]
  },
  {
   "cell_type": "code",
   "execution_count": 10,
   "metadata": {},
   "outputs": [
    {
     "data": {
      "text/html": [
       "<div>\n",
       "<style scoped>\n",
       "    .dataframe tbody tr th:only-of-type {\n",
       "        vertical-align: middle;\n",
       "    }\n",
       "\n",
       "    .dataframe tbody tr th {\n",
       "        vertical-align: top;\n",
       "    }\n",
       "\n",
       "    .dataframe thead th {\n",
       "        text-align: right;\n",
       "    }\n",
       "</style>\n",
       "<table border=\"1\" class=\"dataframe\">\n",
       "  <thead>\n",
       "    <tr style=\"text-align: right;\">\n",
       "      <th>status</th>\n",
       "      <th>Alive</th>\n",
       "      <th>Default</th>\n",
       "      <th>Prepay</th>\n",
       "    </tr>\n",
       "    <tr>\n",
       "      <th>age</th>\n",
       "      <th></th>\n",
       "      <th></th>\n",
       "      <th></th>\n",
       "    </tr>\n",
       "  </thead>\n",
       "  <tbody>\n",
       "    <tr>\n",
       "      <th>-1.0</th>\n",
       "      <td>0</td>\n",
       "      <td>0</td>\n",
       "      <td>9</td>\n",
       "    </tr>\n",
       "    <tr>\n",
       "      <th>0.0</th>\n",
       "      <td>0</td>\n",
       "      <td>0</td>\n",
       "      <td>1</td>\n",
       "    </tr>\n",
       "    <tr>\n",
       "      <th>1.0</th>\n",
       "      <td>0</td>\n",
       "      <td>0</td>\n",
       "      <td>38</td>\n",
       "    </tr>\n",
       "    <tr>\n",
       "      <th>2.0</th>\n",
       "      <td>0</td>\n",
       "      <td>0</td>\n",
       "      <td>94</td>\n",
       "    </tr>\n",
       "    <tr>\n",
       "      <th>3.0</th>\n",
       "      <td>0</td>\n",
       "      <td>0</td>\n",
       "      <td>107</td>\n",
       "    </tr>\n",
       "  </tbody>\n",
       "</table>\n",
       "</div>"
      ],
      "text/plain": [
       "status  Alive  Default  Prepay\n",
       "age                           \n",
       "-1.0        0        0       9\n",
       " 0.0        0        0       1\n",
       " 1.0        0        0      38\n",
       " 2.0        0        0      94\n",
       " 3.0        0        0     107"
      ]
     },
     "execution_count": 10,
     "metadata": {},
     "output_type": "execute_result"
    }
   ],
   "source": [
    "data_group_by_age=data.pivot_table(index='age',columns='status',aggfunc='size',fill_value=0)\n",
    "# take a look at the head part of the data\n",
    "data_group_by_age.head()"
   ]
  },
  {
   "cell_type": "code",
   "execution_count": 11,
   "metadata": {},
   "outputs": [
    {
     "data": {
      "text/plain": [
       "<matplotlib.axes._subplots.AxesSubplot at 0x26e3ffaa710>"
      ]
     },
     "execution_count": 11,
     "metadata": {},
     "output_type": "execute_result"
    },
    {
     "data": {
      "image/png": "[encoded data removed]",
      "text/plain": [
       "<Figure size 432x288 with 1 Axes>"
      ]
     },
     "metadata": {
      "needs_background": "light"
     },
     "output_type": "display_data"
    }
   ],
   "source": [
    "# plot the data\n",
    "data_group_by_age.plot()"
   ]
  },
  {
   "cell_type": "markdown",
   "metadata": {},
   "source": [
    "# Part 4. Caculate Probabilities\n",
    "* That a mortgage has defaulted in the first 5 years\n",
    "* That a mortgage has prepaid in the first 5 years, and\n",
    "* That a mortgage is still alive after 5 years."
   ]
  },
  {
   "cell_type": "code",
   "execution_count": 12,
   "metadata": {},
   "outputs": [
    {
     "name": "stdout",
     "output_type": "stream",
     "text": [
      "alive, default, prepaid are 3868,231,10249\n"
     ]
    }
   ],
   "source": [
    "# first 5 years means first 60 months, or that the AGE is less than 60.\n",
    "data_less_5years=data_group_by_age[data_group_by_age.index<60]\n",
    "\n",
    "# dataframe sum funciton will sum up the values accross all rows for each column\n",
    "num_alive,num_default,num_prepay=data_less_5years.sum()\n",
    "print('alive, default, prepaid are {0},{1},{2}'.format(num_alive,num_default,num_prepay))\n",
    "# caclute the probabilities"
   ]
  },
  {
   "cell_type": "code",
   "execution_count": 13,
   "metadata": {},
   "outputs": [
    {
     "name": "stdout",
     "output_type": "stream",
     "text": [
      "the default probability in first 5 years is 0.0161\n",
      "the prepaid probability in first 5 years is 0.7143\n",
      "the probability a mortgage alive after 5 years is 0.2696\n"
     ]
    }
   ],
   "source": [
    "# caculate the probability\n",
    "p_default=num_default/(num_alive+num_default+num_prepay)\n",
    "p_prepay=num_prepay/(num_alive+num_default+num_prepay)\n",
    "p_alive=num_alive/(num_alive+num_default+num_prepay)\n",
    "# print the result and keep results with four digits\n",
    "print('the default probability in first 5 years is {:.4f}'.format(p_default))\n",
    "print('the prepaid probability in first 5 years is {:.4f}'.format(p_prepay))\n",
    "print('the probability a mortgage alive after 5 years is {:.4f}'.format(p_alive))"
   ]
  },
  {
   "cell_type": "markdown",
   "metadata": {},
   "source": [
    "# Part 5. Use model to predict status\n",
    "In the following code, AGE is selected as the factor to predict the default rate.\n",
    "As this is a classification problem, a maching learning method Decision Tree is\n",
    "used to build the model"
   ]
  },
  {
   "cell_type": "markdown",
   "metadata": {},
   "source": [
    "The most popular machine learning module in Python is scikit-learn.\n",
    "You will need import modules fisrt to utilize those functions"
   ]
  },
  {
   "cell_type": "code",
   "execution_count": 14,
   "metadata": {},
   "outputs": [],
   "source": [
    "from sklearn import tree\n",
    "from sklearn.tree import DecisionTreeClassifier\n",
    "from sklearn.model_selection import train_test_split"
   ]
  },
  {
   "cell_type": "markdown",
   "metadata": {},
   "source": [
    "Build model"
   ]
  },
  {
   "cell_type": "code",
   "execution_count": 15,
   "metadata": {},
   "outputs": [],
   "source": [
    "#Use X to stand for factor and y to stand for dependent variable.\n",
    "y=data['status'].values # use .values to get the numpy ndarray data type\n",
    "X=data['age'].values.reshape(-1,1)# reshape will convert the array to two dimension,\n",
    "# which is required data structure in the machine learning method"
   ]
  },
  {
   "cell_type": "code",
   "execution_count": 16,
   "metadata": {},
   "outputs": [],
   "source": [
    "#There are in total 3 different statuses: DEFAULT, ALIVE and PREPAY. Our goal \n",
    "#is to analyze how DEFAULT responds to the factor AGE,so we can convert ALIVE\n",
    "#and PREPAY to NOT_DEFAULT first\n",
    "y=[v if v=='Default' else 'Not_Default'for v in y] "
   ]
  },
  {
   "cell_type": "code",
   "execution_count": 17,
   "metadata": {},
   "outputs": [],
   "source": [
    "# randomly split the data, 80% to train set and 20% to test set. Pick up a random state too\n",
    "X_trainset, X_testset, y_trainset, y_testset=train_test_split(X,y,test_size=0.2,random_state=3)\n",
    "\n",
    "# build a Decision Tree. The criterion used is 'entropy', \n",
    "# and max_depth is set to 2 to make the tree easier to understand\n",
    "status_tree=DecisionTreeClassifier(criterion='entropy',max_depth=2)\n",
    "status_tree.fit(X_trainset,y_trainset)# train the tree\n",
    "status_predset=status_tree.predict(X_testset) # precict the test data "
   ]
  },
  {
   "cell_type": "markdown",
   "metadata": {},
   "source": [
    "Evaluate the model"
   ]
  },
  {
   "cell_type": "code",
   "execution_count": 18,
   "metadata": {},
   "outputs": [],
   "source": [
    "from sklearn import metrics\n",
    "# use confusion matrix to evaluate the accuracy\n",
    "conf_matrix=metrics.confusion_matrix(y_testset, status_predset,labels=['Not_Default','Default'])"
   ]
  },
  {
   "cell_type": "code",
   "execution_count": 19,
   "metadata": {},
   "outputs": [
    {
     "name": "stdout",
     "output_type": "stream",
     "text": [
      "[[3887    0]\n",
      " [ 113    0]]\n"
     ]
    }
   ],
   "source": [
    "print(conf_matrix)"
   ]
  },
  {
   "cell_type": "code",
   "execution_count": 20,
   "metadata": {},
   "outputs": [
    {
     "name": "stdout",
     "output_type": "stream",
     "text": [
      "true default rate is 0.0\n",
      "true not default rate is 1.0\n",
      "accuracy rate is 0.97175\n"
     ]
    }
   ],
   "source": [
    "true_not_default=conf_matrix[0,0]\n",
    "false_not_default=conf_matrix[1,0]\n",
    "true_default=conf_matrix[1,1]\n",
    "false_default=conf_matrix[0,1]\n",
    "true_defaut_ratio=true_default/(true_default+false_not_default)\n",
    "true_not_default_ratio=true_not_default/(true_not_default+false_default)\n",
    "accuracy_rate=(true_default+true_not_default)/len(y_testset)\n",
    "print('true default rate is {}'.format(true_defaut_ratio))\n",
    "print('true not default rate is {}'.format(true_not_default_ratio))\n",
    "print('accuracy rate is {}'. format(accuracy_rate))"
   ]
  },
  {
   "cell_type": "code",
   "execution_count": 21,
   "metadata": {},
   "outputs": [
    {
     "name": "stdout",
     "output_type": "stream",
     "text": [
      "null accuracy is 0.97175\n"
     ]
    }
   ],
   "source": [
    "# compare the model to null accuracy\n",
    "# null accuracy: accuracy by always predicting the most frequent status,\n",
    "# in this case, always predict result as NOT DEFAULT\n",
    "null_accuracy=y_testset.count('Not_Default')/len(y_testset) \n",
    "print('null accuracy is {}'.format(null_accuracy))"
   ]
  },
  {
   "cell_type": "markdown",
   "metadata": {},
   "source": [
    "The result shows that the model can predict the true NOT DEFAULT 100% correctly, however it cannot predict the DEFAULT status. The reason is that the default status accounts for a very small proportion of the sample data. Using majority vote, the model would vote all situations to NOT DEFAULT. (one way to solve this issue is using upsampling, which is not used here)\n",
    "\n",
    "As well, the model has the same accuracy rate to null accuracy. \n",
    "\n",
    "Then, is the model still useful? Yes, it is. The decision tree can show how the model works"
   ]
  },
  {
   "cell_type": "markdown",
   "metadata": {},
   "source": [
    "Visualize the decision tree"
   ]
  },
  {
   "cell_type": "code",
   "execution_count": 22,
   "metadata": {},
   "outputs": [
    {
     "data": {
      "image/svg+xml": [
       "<?xml version=\"1.0\" encoding=\"UTF-8\" standalone=\"no\"?>\r\n",
       "<!DOCTYPE svg PUBLIC \"-//W3C//DTD SVG 1.1//EN\"\r\n",
       " \"http://www.w3.org/Graphics/SVG/1.1/DTD/svg11.dtd\">\r\n",
       "<!-- Generated by graphviz version 2.38.0 (20140413.2041)\r\n",
       " -->\r\n",
       "<!-- Title: Tree Pages: 1 -->\r\n",
       "<svg width=\"542pt\" height=\"269pt\"\r\n",
       " viewBox=\"0.00 0.00 542.00 269.00\" xmlns=\"http://www.w3.org/2000/svg\" xmlns:xlink=\"http://www.w3.org/1999/xlink\">\r\n",
       "<g id=\"graph0\" class=\"graph\" transform=\"scale(1 1) rotate(0) translate(4 265)\">\r\n",
       "<title>Tree</title>\r\n",
       "<polygon fill=\"white\" stroke=\"none\" points=\"-4,4 -4,-265 538,-265 538,4 -4,4\"/>\r\n",
       "<!-- 0 -->\r\n",
       "<g id=\"node1\" class=\"node\"><title>0</title>\r\n",
       "<polygon fill=\"none\" stroke=\"black\" points=\"324,-261 193,-261 193,-193 324,-193 324,-261\"/>\r\n",
       "<text text-anchor=\"middle\" x=\"258.5\" y=\"-245.8\" font-family=\"Times New Roman,serif\" font-size=\"14.00\">X[0] &lt;= 36.5</text>\r\n",
       "<text text-anchor=\"middle\" x=\"258.5\" y=\"-230.8\" font-family=\"Times New Roman,serif\" font-size=\"14.00\">entropy = 0.166</text>\r\n",
       "<text text-anchor=\"middle\" x=\"258.5\" y=\"-215.8\" font-family=\"Times New Roman,serif\" font-size=\"14.00\">samples = 16000</text>\r\n",
       "<text text-anchor=\"middle\" x=\"258.5\" y=\"-200.8\" font-family=\"Times New Roman,serif\" font-size=\"14.00\">value = [391, 15609]</text>\r\n",
       "</g>\r\n",
       "<!-- 1 -->\r\n",
       "<g id=\"node2\" class=\"node\"><title>1</title>\r\n",
       "<polygon fill=\"none\" stroke=\"black\" points=\"247.5,-157 129.5,-157 129.5,-89 247.5,-89 247.5,-157\"/>\r\n",
       "<text text-anchor=\"middle\" x=\"188.5\" y=\"-141.8\" font-family=\"Times New Roman,serif\" font-size=\"14.00\">X[0] &lt;= 11.5</text>\r\n",
       "<text text-anchor=\"middle\" x=\"188.5\" y=\"-126.8\" font-family=\"Times New Roman,serif\" font-size=\"14.00\">entropy = 0.072</text>\r\n",
       "<text text-anchor=\"middle\" x=\"188.5\" y=\"-111.8\" font-family=\"Times New Roman,serif\" font-size=\"14.00\">samples = 7877</text>\r\n",
       "<text text-anchor=\"middle\" x=\"188.5\" y=\"-96.8\" font-family=\"Times New Roman,serif\" font-size=\"14.00\">value = [69, 7808]</text>\r\n",
       "</g>\r\n",
       "<!-- 0&#45;&gt;1 -->\r\n",
       "<g id=\"edge1\" class=\"edge\"><title>0&#45;&gt;1</title>\r\n",
       "<path fill=\"none\" stroke=\"black\" d=\"M235.773,-192.884C229.843,-184.243 223.376,-174.819 217.181,-165.793\"/>\r\n",
       "<polygon fill=\"black\" stroke=\"black\" points=\"219.897,-163.564 211.353,-157.299 214.125,-167.525 219.897,-163.564\"/>\r\n",
       "<text text-anchor=\"middle\" x=\"206.78\" y=\"-178.178\" font-family=\"Times New Roman,serif\" font-size=\"14.00\">True</text>\r\n",
       "</g>\r\n",
       "<!-- 4 -->\r\n",
       "<g id=\"node5\" class=\"node\"><title>4</title>\r\n",
       "<polygon fill=\"none\" stroke=\"black\" points=\"391,-157 266,-157 266,-89 391,-89 391,-157\"/>\r\n",
       "<text text-anchor=\"middle\" x=\"328.5\" y=\"-141.8\" font-family=\"Times New Roman,serif\" font-size=\"14.00\">X[0] &lt;= 63.5</text>\r\n",
       "<text text-anchor=\"middle\" x=\"328.5\" y=\"-126.8\" font-family=\"Times New Roman,serif\" font-size=\"14.00\">entropy = 0.241</text>\r\n",
       "<text text-anchor=\"middle\" x=\"328.5\" y=\"-111.8\" font-family=\"Times New Roman,serif\" font-size=\"14.00\">samples = 8123</text>\r\n",
       "<text text-anchor=\"middle\" x=\"328.5\" y=\"-96.8\" font-family=\"Times New Roman,serif\" font-size=\"14.00\">value = [322, 7801]</text>\r\n",
       "</g>\r\n",
       "<!-- 0&#45;&gt;4 -->\r\n",
       "<g id=\"edge4\" class=\"edge\"><title>0&#45;&gt;4</title>\r\n",
       "<path fill=\"none\" stroke=\"black\" d=\"M281.227,-192.884C287.157,-184.243 293.624,-174.819 299.819,-165.793\"/>\r\n",
       "<polygon fill=\"black\" stroke=\"black\" points=\"302.875,-167.525 305.647,-157.299 297.103,-163.564 302.875,-167.525\"/>\r\n",
       "<text text-anchor=\"middle\" x=\"310.22\" y=\"-178.178\" font-family=\"Times New Roman,serif\" font-size=\"14.00\">False</text>\r\n",
       "</g>\r\n",
       "<!-- 2 -->\r\n",
       "<g id=\"node3\" class=\"node\"><title>2</title>\r\n",
       "<polygon fill=\"none\" stroke=\"black\" points=\"111,-53 0,-53 0,-0 111,-0 111,-53\"/>\r\n",
       "<text text-anchor=\"middle\" x=\"55.5\" y=\"-37.8\" font-family=\"Times New Roman,serif\" font-size=\"14.00\">entropy = 0.006</text>\r\n",
       "<text text-anchor=\"middle\" x=\"55.5\" y=\"-22.8\" font-family=\"Times New Roman,serif\" font-size=\"14.00\">samples = 2095</text>\r\n",
       "<text text-anchor=\"middle\" x=\"55.5\" y=\"-7.8\" font-family=\"Times New Roman,serif\" font-size=\"14.00\">value = [1, 2094]</text>\r\n",
       "</g>\r\n",
       "<!-- 1&#45;&gt;2 -->\r\n",
       "<g id=\"edge2\" class=\"edge\"><title>1&#45;&gt;2</title>\r\n",
       "<path fill=\"none\" stroke=\"black\" d=\"M141.983,-88.9485C128.336,-79.2516 113.45,-68.6752 99.936,-59.073\"/>\r\n",
       "<polygon fill=\"black\" stroke=\"black\" points=\"101.901,-56.1757 91.722,-53.2367 97.8466,-61.882 101.901,-56.1757\"/>\r\n",
       "</g>\r\n",
       "<!-- 3 -->\r\n",
       "<g id=\"node4\" class=\"node\"><title>3</title>\r\n",
       "<polygon fill=\"none\" stroke=\"black\" points=\"247.5,-53 129.5,-53 129.5,-0 247.5,-0 247.5,-53\"/>\r\n",
       "<text text-anchor=\"middle\" x=\"188.5\" y=\"-37.8\" font-family=\"Times New Roman,serif\" font-size=\"14.00\">entropy = 0.092</text>\r\n",
       "<text text-anchor=\"middle\" x=\"188.5\" y=\"-22.8\" font-family=\"Times New Roman,serif\" font-size=\"14.00\">samples = 5782</text>\r\n",
       "<text text-anchor=\"middle\" x=\"188.5\" y=\"-7.8\" font-family=\"Times New Roman,serif\" font-size=\"14.00\">value = [68, 5714]</text>\r\n",
       "</g>\r\n",
       "<!-- 1&#45;&gt;3 -->\r\n",
       "<g id=\"edge3\" class=\"edge\"><title>1&#45;&gt;3</title>\r\n",
       "<path fill=\"none\" stroke=\"black\" d=\"M188.5,-88.9485C188.5,-80.7153 188.5,-71.848 188.5,-63.4814\"/>\r\n",
       "<polygon fill=\"black\" stroke=\"black\" points=\"192,-63.2367 188.5,-53.2367 185,-63.2367 192,-63.2367\"/>\r\n",
       "</g>\r\n",
       "<!-- 5 -->\r\n",
       "<g id=\"node6\" class=\"node\"><title>5</title>\r\n",
       "<polygon fill=\"none\" stroke=\"black\" points=\"391,-53 266,-53 266,-0 391,-0 391,-53\"/>\r\n",
       "<text text-anchor=\"middle\" x=\"328.5\" y=\"-37.8\" font-family=\"Times New Roman,serif\" font-size=\"14.00\">entropy = 0.196</text>\r\n",
       "<text text-anchor=\"middle\" x=\"328.5\" y=\"-22.8\" font-family=\"Times New Roman,serif\" font-size=\"14.00\">samples = 4049</text>\r\n",
       "<text text-anchor=\"middle\" x=\"328.5\" y=\"-7.8\" font-family=\"Times New Roman,serif\" font-size=\"14.00\">value = [123, 3926]</text>\r\n",
       "</g>\r\n",
       "<!-- 4&#45;&gt;5 -->\r\n",
       "<g id=\"edge5\" class=\"edge\"><title>4&#45;&gt;5</title>\r\n",
       "<path fill=\"none\" stroke=\"black\" d=\"M328.5,-88.9485C328.5,-80.7153 328.5,-71.848 328.5,-63.4814\"/>\r\n",
       "<polygon fill=\"black\" stroke=\"black\" points=\"332,-63.2367 328.5,-53.2367 325,-63.2367 332,-63.2367\"/>\r\n",
       "</g>\r\n",
       "<!-- 6 -->\r\n",
       "<g id=\"node7\" class=\"node\"><title>6</title>\r\n",
       "<polygon fill=\"none\" stroke=\"black\" points=\"534,-53 409,-53 409,-0 534,-0 534,-53\"/>\r\n",
       "<text text-anchor=\"middle\" x=\"471.5\" y=\"-37.8\" font-family=\"Times New Roman,serif\" font-size=\"14.00\">entropy = 0.281</text>\r\n",
       "<text text-anchor=\"middle\" x=\"471.5\" y=\"-22.8\" font-family=\"Times New Roman,serif\" font-size=\"14.00\">samples = 4074</text>\r\n",
       "<text text-anchor=\"middle\" x=\"471.5\" y=\"-7.8\" font-family=\"Times New Roman,serif\" font-size=\"14.00\">value = [199, 3875]</text>\r\n",
       "</g>\r\n",
       "<!-- 4&#45;&gt;6 -->\r\n",
       "<g id=\"edge6\" class=\"edge\"><title>4&#45;&gt;6</title>\r\n",
       "<path fill=\"none\" stroke=\"black\" d=\"M378.514,-88.9485C393.326,-79.1601 409.495,-68.4756 424.134,-58.8015\"/>\r\n",
       "<polygon fill=\"black\" stroke=\"black\" points=\"426.141,-61.6701 432.555,-53.2367 422.282,-55.83 426.141,-61.6701\"/>\r\n",
       "</g>\r\n",
       "</g>\r\n",
       "</svg>\r\n"
      ],
      "text/plain": [
       "<graphviz.files.Source at 0x26e42b16080>"
      ]
     },
     "execution_count": 22,
     "metadata": {},
     "output_type": "execute_result"
    }
   ],
   "source": [
    "import graphviz\n",
    "dot_data=tree.export_graphviz(status_tree)\n",
    "graph=graphviz.Source(dot_data)\n",
    "graph"
   ]
  },
  {
   "cell_type": "code",
   "execution_count": null,
   "metadata": {},
   "outputs": [],
   "source": []
  }
 ],
 "metadata": {
  "kernelspec": {
   "display_name": "Python 3",
   "language": "python",
   "name": "python3"
  },
  "language_info": {
   "codemirror_mode": {
    "name": "ipython",
    "version": 3
   },
   "file_extension": ".py",
   "mimetype": "text/x-python",
   "name": "python",
   "nbconvert_exporter": "python",
   "pygments_lexer": "ipython3",
   "version": "3.6.8"
  }
 },
 "nbformat": 4,
 "nbformat_minor": 2
}
